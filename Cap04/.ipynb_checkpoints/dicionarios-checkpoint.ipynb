{
 "cells": [
  {
   "cell_type": "markdown",
   "id": "f3619dc8",
   "metadata": {},
   "source": [
    "Data science academy\n",
    "Fundamentos de linguagem python para analise de dados e data science\n",
    "capitulo 4 - estruturas de dados (Dicionários)"
   ]
  },
  {
   "cell_type": "code",
   "execution_count": 1,
   "id": "d9bdb62e",
   "metadata": {},
   "outputs": [],
   "source": [
    "#Isso e uma lista\n",
    "estudantes_lst= [\"Pedro\",24, \"Ana\", 22, \"Ronaldo\",26,\"Janaina\",25]"
   ]
  },
  {
   "cell_type": "code",
   "execution_count": 2,
   "id": "918e0454",
   "metadata": {},
   "outputs": [
    {
     "data": {
      "text/plain": [
       "['Pedro', 24, 'Ana', 22, 'Ronaldo', 26, 'Janaina', 25]"
      ]
     },
     "execution_count": 2,
     "metadata": {},
     "output_type": "execute_result"
    }
   ],
   "source": [
    "estudantes_lst"
   ]
  },
  {
   "cell_type": "code",
   "execution_count": 14,
   "id": "035a1ff6",
   "metadata": {},
   "outputs": [],
   "source": [
    "#isso é um dicionario\n",
    "estudantes_dict = {\"Pedro\":24, \"Ana\":22, \"Ronaldo\":26, \"Janaina\":25}\n"
   ]
  },
  {
   "cell_type": "code",
   "execution_count": 17,
   "id": "2008215d",
   "metadata": {},
   "outputs": [
    {
     "data": {
      "text/plain": [
       "{'Pedro': 24, 'Ana': 22, 'Ronaldo': 26, 'Janaina': 25, 'Marcelo': 23}"
      ]
     },
     "execution_count": 17,
     "metadata": {},
     "output_type": "execute_result"
    }
   ],
   "source": [
    "estudantes_dict"
   ]
  },
  {
   "cell_type": "code",
   "execution_count": 5,
   "id": "d702fa54",
   "metadata": {},
   "outputs": [
    {
     "data": {
      "text/plain": [
       "24"
      ]
     },
     "execution_count": 5,
     "metadata": {},
     "output_type": "execute_result"
    }
   ],
   "source": [
    "estudantes_dict[\"Pedro\"]"
   ]
  },
  {
   "cell_type": "code",
   "execution_count": 15,
   "id": "58c7ff9a",
   "metadata": {},
   "outputs": [],
   "source": [
    "estudantes_dict[\"Marcelo\"]=23"
   ]
  },
  {
   "cell_type": "code",
   "execution_count": 13,
   "id": "502964c9",
   "metadata": {},
   "outputs": [
    {
     "ename": "NameError",
     "evalue": "name 'estudantes_dict' is not defined",
     "output_type": "error",
     "traceback": [
      "\u001b[1;31m---------------------------------------------------------------------------\u001b[0m",
      "\u001b[1;31mNameError\u001b[0m                                 Traceback (most recent call last)",
      "\u001b[1;32m~\\AppData\\Local\\Temp\\ipykernel_520\\1634695477.py\u001b[0m in \u001b[0;36m<module>\u001b[1;34m\u001b[0m\n\u001b[1;32m----> 1\u001b[1;33m \u001b[0mestudantes_dict\u001b[0m\u001b[1;33m\u001b[0m\u001b[1;33m\u001b[0m\u001b[0m\n\u001b[0m",
      "\u001b[1;31mNameError\u001b[0m: name 'estudantes_dict' is not defined"
     ]
    }
   ],
   "source": [
    "estudantes_dict"
   ]
  },
  {
   "cell_type": "code",
   "execution_count": 8,
   "id": "c8e1e925",
   "metadata": {},
   "outputs": [],
   "source": [
    "#limpa o dicionario\n",
    "estudantes_dict.clear()"
   ]
  },
  {
   "cell_type": "code",
   "execution_count": 12,
   "id": "70f39a6a",
   "metadata": {},
   "outputs": [],
   "source": [
    "#deleta o dicionario\n",
    "del estudantes_dict"
   ]
  },
  {
   "cell_type": "code",
   "execution_count": 20,
   "id": "57c92ea4",
   "metadata": {},
   "outputs": [],
   "source": [
    "estudantes = {\"Pedro\":24, \"Ana\":22, \"Ronaldo\":26, \"Janaina\":25}"
   ]
  },
  {
   "cell_type": "code",
   "execution_count": 21,
   "id": "15d2ff8c",
   "metadata": {},
   "outputs": [
    {
     "data": {
      "text/plain": [
       "4"
      ]
     },
     "execution_count": 21,
     "metadata": {},
     "output_type": "execute_result"
    }
   ],
   "source": [
    "len(estudantes)"
   ]
  },
  {
   "cell_type": "code",
   "execution_count": 22,
   "id": "955f2288",
   "metadata": {},
   "outputs": [
    {
     "data": {
      "text/plain": [
       "dict_keys(['Pedro', 'Ana', 'Ronaldo', 'Janaina'])"
      ]
     },
     "execution_count": 22,
     "metadata": {},
     "output_type": "execute_result"
    }
   ],
   "source": [
    "estudantes.keys()"
   ]
  },
  {
   "cell_type": "code",
   "execution_count": 23,
   "id": "a0d9dcc4",
   "metadata": {},
   "outputs": [
    {
     "data": {
      "text/plain": [
       "dict_values([24, 22, 26, 25])"
      ]
     },
     "execution_count": 23,
     "metadata": {},
     "output_type": "execute_result"
    }
   ],
   "source": [
    "estudantes.values()"
   ]
  },
  {
   "cell_type": "code",
   "execution_count": 25,
   "id": "1d3b14ec",
   "metadata": {},
   "outputs": [
    {
     "data": {
      "text/plain": [
       "dict_items([('Pedro', 24), ('Ana', 22), ('Ronaldo', 26), ('Janaina', 25)])"
      ]
     },
     "execution_count": 25,
     "metadata": {},
     "output_type": "execute_result"
    }
   ],
   "source": [
    "estudantes.items()"
   ]
  },
  {
   "cell_type": "code",
   "execution_count": 27,
   "id": "2b3f72f6",
   "metadata": {},
   "outputs": [],
   "source": [
    "estudantes2 = {\"Camila\":24,\"Adriana\":28, \"Roberta\":26}"
   ]
  },
  {
   "cell_type": "code",
   "execution_count": 28,
   "id": "0db1d20f",
   "metadata": {},
   "outputs": [
    {
     "data": {
      "text/plain": [
       "{'Camila': 24, 'Adriana': 28, 'Roberta': 26}"
      ]
     },
     "execution_count": 28,
     "metadata": {},
     "output_type": "execute_result"
    }
   ],
   "source": [
    "estudantes2"
   ]
  },
  {
   "cell_type": "code",
   "execution_count": 31,
   "id": "2e91d05a",
   "metadata": {},
   "outputs": [],
   "source": [
    "estudantes.update(estudantes2)"
   ]
  },
  {
   "cell_type": "code",
   "execution_count": 33,
   "id": "0ca9f125",
   "metadata": {},
   "outputs": [
    {
     "data": {
      "text/plain": [
       "{'Pedro': 24,\n",
       " 'Ana': 22,\n",
       " 'Ronaldo': 26,\n",
       " 'Janaina': 25,\n",
       " 'Camila': 24,\n",
       " 'Adriana': 28,\n",
       " 'Roberta': 26}"
      ]
     },
     "execution_count": 33,
     "metadata": {},
     "output_type": "execute_result"
    }
   ],
   "source": [
    "estudantes"
   ]
  },
  {
   "cell_type": "code",
   "execution_count": 34,
   "id": "c69afe66",
   "metadata": {},
   "outputs": [],
   "source": [
    "dic1 = {}"
   ]
  },
  {
   "cell_type": "code",
   "execution_count": 41,
   "id": "fa24a68c",
   "metadata": {},
   "outputs": [],
   "source": [
    "dic1[\"chave_um\"] = 2"
   ]
  },
  {
   "cell_type": "code",
   "execution_count": 44,
   "id": "4d624267",
   "metadata": {},
   "outputs": [
    {
     "name": "stdout",
     "output_type": "stream",
     "text": [
      "{10: 5, 'chave_um': 2}\n"
     ]
    }
   ],
   "source": [
    "print(dic1)"
   ]
  },
  {
   "cell_type": "code",
   "execution_count": 43,
   "id": "ff61ce27",
   "metadata": {},
   "outputs": [],
   "source": [
    "dic1[10] = 5"
   ]
  },
  {
   "cell_type": "code",
   "execution_count": 38,
   "id": "391f0110",
   "metadata": {},
   "outputs": [
    {
     "data": {
      "text/plain": [
       "{10: 5}"
      ]
     },
     "execution_count": 38,
     "metadata": {},
     "output_type": "execute_result"
    }
   ],
   "source": [
    "dic1"
   ]
  },
  {
   "cell_type": "code",
   "execution_count": 45,
   "id": "bb593094",
   "metadata": {},
   "outputs": [],
   "source": [
    "dic1[9.13]= \"Python\""
   ]
  },
  {
   "cell_type": "code",
   "execution_count": 46,
   "id": "cd4e3c49",
   "metadata": {},
   "outputs": [
    {
     "data": {
      "text/plain": [
       "{10: 5, 'chave_um': 2, 9.13: 'Python'}"
      ]
     },
     "execution_count": 46,
     "metadata": {},
     "output_type": "execute_result"
    }
   ],
   "source": [
    "dic1"
   ]
  },
  {
   "cell_type": "code",
   "execution_count": 48,
   "id": "8ddb71e1",
   "metadata": {},
   "outputs": [],
   "source": [
    "dict2 = {}"
   ]
  },
  {
   "cell_type": "code",
   "execution_count": 55,
   "id": "784c2c99",
   "metadata": {},
   "outputs": [],
   "source": [
    "dict2[\"Key1\"] = 10"
   ]
  },
  {
   "cell_type": "code",
   "execution_count": 50,
   "id": "d474deff",
   "metadata": {},
   "outputs": [],
   "source": [
    "dict2[\"Key2\"] = 20"
   ]
  },
  {
   "cell_type": "code",
   "execution_count": 52,
   "id": "3a817369",
   "metadata": {},
   "outputs": [],
   "source": [
    "dict2[\"Key3\"] = 30"
   ]
  },
  {
   "cell_type": "code",
   "execution_count": 53,
   "id": "cfca460a",
   "metadata": {},
   "outputs": [
    {
     "data": {
      "text/plain": [
       "{'Key1': 10, 'Key2': 20, 'Key3': 30}"
      ]
     },
     "execution_count": 53,
     "metadata": {},
     "output_type": "execute_result"
    }
   ],
   "source": [
    "dict2"
   ]
  },
  {
   "cell_type": "code",
   "execution_count": 59,
   "id": "3c51b6e1",
   "metadata": {},
   "outputs": [],
   "source": [
    "a = dict2[\"Key1\"]"
   ]
  },
  {
   "cell_type": "code",
   "execution_count": 60,
   "id": "3e3fbf42",
   "metadata": {},
   "outputs": [],
   "source": [
    "b = dict2[\"Key2\"]"
   ]
  },
  {
   "cell_type": "code",
   "execution_count": 63,
   "id": "91ed71a0",
   "metadata": {},
   "outputs": [],
   "source": [
    "c = dict2[\"Key3\"]"
   ]
  },
  {
   "cell_type": "code",
   "execution_count": 64,
   "id": "132daa1a",
   "metadata": {},
   "outputs": [
    {
     "data": {
      "text/plain": [
       "(10, 20, 30)"
      ]
     },
     "execution_count": 64,
     "metadata": {},
     "output_type": "execute_result"
    }
   ],
   "source": [
    "a,b,c"
   ]
  },
  {
   "cell_type": "code",
   "execution_count": null,
   "id": "9315ce2c",
   "metadata": {},
   "outputs": [],
   "source": []
  }
 ],
 "metadata": {
  "kernelspec": {
   "display_name": "Python 3 (ipykernel)",
   "language": "python",
   "name": "python3"
  },
  "language_info": {
   "codemirror_mode": {
    "name": "ipython",
    "version": 3
   },
   "file_extension": ".py",
   "mimetype": "text/x-python",
   "name": "python",
   "nbconvert_exporter": "python",
   "pygments_lexer": "ipython3",
   "version": "3.9.13"
  }
 },
 "nbformat": 4,
 "nbformat_minor": 5
}
