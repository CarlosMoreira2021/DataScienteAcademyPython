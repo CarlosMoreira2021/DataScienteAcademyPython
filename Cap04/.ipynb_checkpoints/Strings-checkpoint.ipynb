{
 "cells": [
  {
   "cell_type": "markdown",
   "id": "d1a99813",
   "metadata": {},
   "source": [
    "Strings e indexação"
   ]
  },
  {
   "cell_type": "code",
   "execution_count": 1,
   "id": "a529e98d",
   "metadata": {},
   "outputs": [
    {
     "name": "stdout",
     "output_type": "stream",
     "text": [
      "Ola mundo!\n"
     ]
    }
   ],
   "source": [
    "print(\"Ola mundo!\")"
   ]
  },
  {
   "cell_type": "code",
   "execution_count": 2,
   "id": "1417052d",
   "metadata": {},
   "outputs": [
    {
     "name": "stdout",
     "output_type": "stream",
     "text": [
      "ola mundo\n"
     ]
    }
   ],
   "source": [
    "print('ola mundo')"
   ]
  },
  {
   "cell_type": "code",
   "execution_count": 3,
   "id": "9f5ffb20",
   "metadata": {},
   "outputs": [],
   "source": [
    "a = 'Data science academy'"
   ]
  },
  {
   "cell_type": "code",
   "execution_count": 4,
   "id": "7132f16e",
   "metadata": {},
   "outputs": [
    {
     "name": "stdout",
     "output_type": "stream",
     "text": [
      "Data science academy\n"
     ]
    }
   ],
   "source": [
    "print(a)"
   ]
  },
  {
   "cell_type": "markdown",
   "id": "cbe7249b",
   "metadata": {},
   "source": [
    "indexação com python começa em 0"
   ]
  },
  {
   "cell_type": "code",
   "execution_count": 5,
   "id": "82e2beb0",
   "metadata": {},
   "outputs": [
    {
     "data": {
      "text/plain": [
       "'D'"
      ]
     },
     "execution_count": 5,
     "metadata": {},
     "output_type": "execute_result"
    }
   ],
   "source": [
    "a[0]"
   ]
  },
  {
   "cell_type": "code",
   "execution_count": 6,
   "id": "382198f8",
   "metadata": {},
   "outputs": [
    {
     "data": {
      "text/plain": [
       "'a'"
      ]
     },
     "execution_count": 6,
     "metadata": {},
     "output_type": "execute_result"
    }
   ],
   "source": [
    "a[1]"
   ]
  },
  {
   "cell_type": "code",
   "execution_count": 7,
   "id": "db5dee21",
   "metadata": {},
   "outputs": [
    {
     "data": {
      "text/plain": [
       "'t'"
      ]
     },
     "execution_count": 7,
     "metadata": {},
     "output_type": "execute_result"
    }
   ],
   "source": [
    "a[2]"
   ]
  },
  {
   "cell_type": "code",
   "execution_count": 8,
   "id": "74024d30",
   "metadata": {},
   "outputs": [
    {
     "data": {
      "text/plain": [
       "'a'"
      ]
     },
     "execution_count": 8,
     "metadata": {},
     "output_type": "execute_result"
    }
   ],
   "source": [
    "a[3]"
   ]
  },
  {
   "cell_type": "markdown",
   "id": "b54fec8c",
   "metadata": {},
   "source": [
    "Podemos usar um : para executar um slicing que faz a leitura de tudo até um ponto designado. Por exemplo:\n"
   ]
  },
  {
   "cell_type": "code",
   "execution_count": 11,
   "id": "5055d161",
   "metadata": {},
   "outputs": [
    {
     "data": {
      "text/plain": [
       "'ata science academy'"
      ]
     },
     "execution_count": 11,
     "metadata": {},
     "output_type": "execute_result"
    }
   ],
   "source": [
    "#Retorna todos os elementos da strinbd, começando pela posição\n",
    "a[1:]"
   ]
  },
  {
   "cell_type": "code",
   "execution_count": 13,
   "id": "e50b4de7",
   "metadata": {},
   "outputs": [
    {
     "data": {
      "text/plain": [
       "'Data science academy'"
      ]
     },
     "execution_count": 13,
     "metadata": {},
     "output_type": "execute_result"
    }
   ],
   "source": [
    "#string aparece inalterada\n",
    "a"
   ]
  },
  {
   "cell_type": "code",
   "execution_count": 15,
   "id": "2ec94101",
   "metadata": {},
   "outputs": [
    {
     "data": {
      "text/plain": [
       "'a science academy'"
      ]
     },
     "execution_count": 15,
     "metadata": {},
     "output_type": "execute_result"
    }
   ],
   "source": [
    "#retorna tudo até a posição 3\n",
    "a[3:]"
   ]
  },
  {
   "cell_type": "markdown",
   "id": "3d7d0c99",
   "metadata": {},
   "source": [
    "nos tambem podemos usar a notação de indice e fatiar a string em pedaços especificos(o padrao é 1)\n",
    "Por exemplo, podemos usar dois pontos duas vezes em uma linha e, em seguida, um numero que especifica a frequencia para retornar elementos"
   ]
  },
  {
   "cell_type": "code",
   "execution_count": 17,
   "id": "a4c1c8df",
   "metadata": {},
   "outputs": [
    {
     "data": {
      "text/plain": [
       "'Data science academ'"
      ]
     },
     "execution_count": 17,
     "metadata": {},
     "output_type": "execute_result"
    }
   ],
   "source": [
    "#retornar tudo, exceto a ultima letra \n",
    "a[:-1]"
   ]
  },
  {
   "cell_type": "code",
   "execution_count": 18,
   "id": "4170dc64",
   "metadata": {},
   "outputs": [
    {
     "data": {
      "text/plain": [
       "'Data science academy'"
      ]
     },
     "execution_count": 18,
     "metadata": {},
     "output_type": "execute_result"
    }
   ],
   "source": [
    "a[::1]"
   ]
  },
  {
   "cell_type": "code",
   "execution_count": 19,
   "id": "0afef931",
   "metadata": {},
   "outputs": [
    {
     "data": {
      "text/plain": [
       "'Dt cec cdm'"
      ]
     },
     "execution_count": 19,
     "metadata": {},
     "output_type": "execute_result"
    }
   ],
   "source": [
    "a[::2]"
   ]
  },
  {
   "cell_type": "code",
   "execution_count": 21,
   "id": "4e37de35",
   "metadata": {},
   "outputs": [
    {
     "data": {
      "text/plain": [
       "'ymedaca ecneics ataD'"
      ]
     },
     "execution_count": 21,
     "metadata": {},
     "output_type": "execute_result"
    }
   ],
   "source": [
    "a[::-1]"
   ]
  },
  {
   "cell_type": "code",
   "execution_count": 22,
   "id": "b3644605",
   "metadata": {},
   "outputs": [],
   "source": [
    "a = a + 'data'"
   ]
  },
  {
   "cell_type": "code",
   "execution_count": 23,
   "id": "a658035a",
   "metadata": {},
   "outputs": [
    {
     "data": {
      "text/plain": [
       "'Data science academydata'"
      ]
     },
     "execution_count": 23,
     "metadata": {},
     "output_type": "execute_result"
    }
   ],
   "source": [
    "a"
   ]
  },
  {
   "cell_type": "code",
   "execution_count": 24,
   "id": "4ac5b93f",
   "metadata": {},
   "outputs": [],
   "source": [
    "letra = 'w'"
   ]
  },
  {
   "cell_type": "code",
   "execution_count": 25,
   "id": "7e6b151f",
   "metadata": {},
   "outputs": [
    {
     "data": {
      "text/plain": [
       "'www'"
      ]
     },
     "execution_count": 25,
     "metadata": {},
     "output_type": "execute_result"
    }
   ],
   "source": [
    "letra * 3"
   ]
  },
  {
   "cell_type": "markdown",
   "id": "38ad8aa8",
   "metadata": {},
   "source": [
    "funcoes buit-in de strings"
   ]
  },
  {
   "cell_type": "code",
   "execution_count": 26,
   "id": "7828c6a2",
   "metadata": {},
   "outputs": [
    {
     "data": {
      "text/plain": [
       "'Data science academydata'"
      ]
     },
     "execution_count": 26,
     "metadata": {},
     "output_type": "execute_result"
    }
   ],
   "source": [
    "a"
   ]
  },
  {
   "cell_type": "code",
   "execution_count": 27,
   "id": "4c45b34c",
   "metadata": {},
   "outputs": [
    {
     "data": {
      "text/plain": [
       "'DATA SCIENCE ACADEMYDATA'"
      ]
     },
     "execution_count": 27,
     "metadata": {},
     "output_type": "execute_result"
    }
   ],
   "source": [
    "#Upper case\n",
    "a.upper()"
   ]
  },
  {
   "cell_type": "code",
   "execution_count": 31,
   "id": "d0de5089",
   "metadata": {},
   "outputs": [
    {
     "data": {
      "text/plain": [
       "'data science academydata'"
      ]
     },
     "execution_count": 31,
     "metadata": {},
     "output_type": "execute_result"
    }
   ],
   "source": [
    "#lower case\n",
    "a.lower()"
   ]
  },
  {
   "cell_type": "code",
   "execution_count": 33,
   "id": "25154d72",
   "metadata": {},
   "outputs": [
    {
     "data": {
      "text/plain": [
       "['Data', 'science', 'academydata']"
      ]
     },
     "execution_count": 33,
     "metadata": {},
     "output_type": "execute_result"
    }
   ],
   "source": [
    "#dividir uma string por espaços em branco (padrão)\n",
    "a.split()"
   ]
  },
  {
   "cell_type": "code",
   "execution_count": 35,
   "id": "93c44ef8",
   "metadata": {},
   "outputs": [
    {
     "data": {
      "text/plain": [
       "['Data science academ', 'data']"
      ]
     },
     "execution_count": 35,
     "metadata": {},
     "output_type": "execute_result"
    }
   ],
   "source": [
    "#dividir uma string por um elemento especifico\n",
    "a.split('y')"
   ]
  },
  {
   "cell_type": "markdown",
   "id": "f4956acb",
   "metadata": {},
   "source": [
    "Funções string"
   ]
  },
  {
   "cell_type": "code",
   "execution_count": 36,
   "id": "4f3a2620",
   "metadata": {},
   "outputs": [],
   "source": [
    "a = 'Seja bem vindo ao universo da linguagem python'"
   ]
  },
  {
   "cell_type": "code",
   "execution_count": 37,
   "id": "6702301e",
   "metadata": {},
   "outputs": [
    {
     "data": {
      "text/plain": [
       "'Seja bem vindo ao universo da linguagem python'"
      ]
     },
     "execution_count": 37,
     "metadata": {},
     "output_type": "execute_result"
    }
   ],
   "source": [
    "a"
   ]
  },
  {
   "cell_type": "code",
   "execution_count": 38,
   "id": "22950828",
   "metadata": {},
   "outputs": [
    {
     "data": {
      "text/plain": [
       "4"
      ]
     },
     "execution_count": 38,
     "metadata": {},
     "output_type": "execute_result"
    }
   ],
   "source": [
    "a.count('a')"
   ]
  },
  {
   "cell_type": "code",
   "execution_count": 40,
   "id": "b8d4674e",
   "metadata": {},
   "outputs": [
    {
     "data": {
      "text/plain": [
       "False"
      ]
     },
     "execution_count": 40,
     "metadata": {},
     "output_type": "execute_result"
    }
   ],
   "source": [
    "a.isalnum()"
   ]
  },
  {
   "cell_type": "code",
   "execution_count": 41,
   "id": "c41e6990",
   "metadata": {},
   "outputs": [
    {
     "data": {
      "text/plain": [
       "False"
      ]
     },
     "execution_count": 41,
     "metadata": {},
     "output_type": "execute_result"
    }
   ],
   "source": [
    "a.islower()"
   ]
  },
  {
   "cell_type": "code",
   "execution_count": 42,
   "id": "3c40b1b6",
   "metadata": {},
   "outputs": [
    {
     "data": {
      "text/plain": [
       "False"
      ]
     },
     "execution_count": 42,
     "metadata": {},
     "output_type": "execute_result"
    }
   ],
   "source": [
    "a.isspace()"
   ]
  },
  {
   "cell_type": "code",
   "execution_count": 43,
   "id": "79d8f271",
   "metadata": {},
   "outputs": [
    {
     "name": "stdout",
     "output_type": "stream",
     "text": [
      "False\n"
     ]
    }
   ],
   "source": [
    "print('Python' == 'R')"
   ]
  },
  {
   "cell_type": "code",
   "execution_count": 44,
   "id": "d0179ba7",
   "metadata": {},
   "outputs": [
    {
     "name": "stdout",
     "output_type": "stream",
     "text": [
      "True\n"
     ]
    }
   ],
   "source": [
    "print(\"Python\" == 'Python')"
   ]
  },
  {
   "cell_type": "code",
   "execution_count": null,
   "id": "6532fe72",
   "metadata": {},
   "outputs": [],
   "source": []
  }
 ],
 "metadata": {
  "kernelspec": {
   "display_name": "Python 3 (ipykernel)",
   "language": "python",
   "name": "python3"
  },
  "language_info": {
   "codemirror_mode": {
    "name": "ipython",
    "version": 3
   },
   "file_extension": ".py",
   "mimetype": "text/x-python",
   "name": "python",
   "nbconvert_exporter": "python",
   "pygments_lexer": "ipython3",
   "version": "3.9.13"
  }
 },
 "nbformat": 4,
 "nbformat_minor": 5
}
