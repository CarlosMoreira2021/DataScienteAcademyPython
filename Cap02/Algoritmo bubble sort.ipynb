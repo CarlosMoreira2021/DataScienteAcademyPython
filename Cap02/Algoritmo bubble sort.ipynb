{
 "cells": [
  {
   "cell_type": "markdown",
   "id": "2cffb019",
   "metadata": {},
   "source": [
    "Pseudocodigo 3 - Algoritmo bubble sort\n",
    "\n",
    "Blubble sorte é um algoritmo de ordenação simples que funciona comparando cada elemento com próximo, trocando-os de lugar se eles estiverem em ordem incorreta. O algoritmo repete esse processo varias vezes, ate que todos os elementos estejam ordenados. A cada passagem, o maior elemento 'flutua' para o final do array, como uma bolha, dando origigem ao nome do algoritmo.\n"
   ]
  },
  {
   "cell_type": "code",
   "execution_count": 8,
   "id": "b8d8a669",
   "metadata": {},
   "outputs": [],
   "source": [
    "lista = [1,3,2,4,6,5,8,7,9,11,10]"
   ]
  },
  {
   "cell_type": "code",
   "execution_count": 11,
   "id": "f090d33b",
   "metadata": {},
   "outputs": [],
   "source": [
    "def blubble_sort(arr):\n",
    "    n = len(arr)\n",
    "    \n",
    "    #Para cada elemento i do array\n",
    "    for i in range(n):\n",
    "        #Para cada elementro j do array\n",
    "        for j in range(0, n-i-1):\n",
    "            #se o elemento i for mairo que elemento j\n",
    "            if arr[j] > arr[j+1]:\n",
    "                #Troque os elementos i e j\n",
    "                arr[j], arr[j+1] = arr[j+1], arr[j]\n",
    "    return arr        "
   ]
  },
  {
   "cell_type": "code",
   "execution_count": 12,
   "id": "93f28de6",
   "metadata": {},
   "outputs": [
    {
     "name": "stdout",
     "output_type": "stream",
     "text": [
      "[1, 2, 2, 4, 5, 6, 7, 8, 9, 10, 11]\n"
     ]
    }
   ],
   "source": [
    "print(blubble_sort(lista))"
   ]
  }
 ],
 "metadata": {
  "kernelspec": {
   "display_name": "Python 3 (ipykernel)",
   "language": "python",
   "name": "python3"
  },
  "language_info": {
   "codemirror_mode": {
    "name": "ipython",
    "version": 3
   },
   "file_extension": ".py",
   "mimetype": "text/x-python",
   "name": "python",
   "nbconvert_exporter": "python",
   "pygments_lexer": "ipython3",
   "version": "3.9.13"
  }
 },
 "nbformat": 4,
 "nbformat_minor": 5
}
