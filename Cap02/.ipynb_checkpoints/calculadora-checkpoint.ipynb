{
 "cells": [
  {
   "cell_type": "markdown",
   "id": "4d4317ce",
   "metadata": {},
   "source": [
    "Calculadora em python"
   ]
  },
  {
   "cell_type": "code",
   "execution_count": 10,
   "id": "5304faa3",
   "metadata": {},
   "outputs": [
    {
     "name": "stdout",
     "output_type": "stream",
     "text": [
      "Calcularora\n",
      "Digite um numero: 20\n",
      "Digite outro numero: 30\n",
      "Digite uma expressão:+\n",
      "1 = +\n",
      "2 = -\n",
      "3 = /\n",
      "4 = *\n",
      "20.0 + 30.0 = 50.0\n"
     ]
    }
   ],
   "source": [
    "print('Calculadora')\n",
    "\n",
    "while True:\n",
    "    n1 = float(input('Digite um numero: '))\n",
    "    n2 = float(input('Digite outro numero: '))\n",
    "    valor = input('Digite uma expressão:')\n",
    "\n",
    "    print(\"1 = +\")\n",
    "    print(\"2 = -\")\n",
    "    print(\"3 = /\")\n",
    "    print(\"4 = *\")\n",
    "\n",
    "    if valor == '+':    \n",
    "        soma = n1 + n2\n",
    "        print(f'{n1} + {n2} = {soma}')\n",
    "        break\n",
    "\n",
    "    elif valor == '-':\n",
    "        sub = n1 - n2\n",
    "        print(f'{n1} - {n2} = {sub}')\n",
    "        break\n",
    "\n",
    "    elif valor == '/':\n",
    "        div = n1 / n2\n",
    "        print(f'{n1} / {n2} = {div}')\n",
    "        break\n",
    "\n",
    "    elif valor == '*':\n",
    "        sub = n1 * n2\n",
    "        print(f'{n1} * {n2} = {sub}')\n",
    "        break\n",
    "\n",
    "    else:\n",
    "        print(\"Operação invalida\")\n",
    "\n"
   ]
  },
  {
   "cell_type": "code",
   "execution_count": null,
   "id": "f68e7f1a",
   "metadata": {},
   "outputs": [],
   "source": []
  }
 ],
 "metadata": {
  "kernelspec": {
   "display_name": "Python 3 (ipykernel)",
   "language": "python",
   "name": "python3"
  },
  "language_info": {
   "codemirror_mode": {
    "name": "ipython",
    "version": 3
   },
   "file_extension": ".py",
   "mimetype": "text/x-python",
   "name": "python",
   "nbconvert_exporter": "python",
   "pygments_lexer": "ipython3",
   "version": "3.9.13"
  }
 },
 "nbformat": 4,
 "nbformat_minor": 5
}
